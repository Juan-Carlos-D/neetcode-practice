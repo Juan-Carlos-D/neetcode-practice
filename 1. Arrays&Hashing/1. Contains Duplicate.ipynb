{
 "cells": [
  {
   "cell_type": "markdown",
   "metadata": {},
   "source": [
    "# Leetcode 217. Contains Duplicate\n",
    "- Given an integer array `nums`, return `true` if any value appears **at least twice** in the array, and return `false` if every element is distinct."
   ]
  },
  {
   "cell_type": "markdown",
   "metadata": {},
   "source": [
    "### Pseudocode:\n",
    "- Input: `nums`\n",
    "- Output: `True` or `False`\n",
    "- Edge cases: empty array\n",
    "\n",
    "- def containsDuplicates(nums):\n",
    "    - if not nums: # Check if nums is empty\n",
    "        - return False\n",
    "\n",
    "    - seen = set() # Create an empty set to store seen elements\n",
    "    - for num in nums:\n",
    "        - if num in seen: # if the current number is already in the set, return True\n",
    "            - return True\n",
    "        - seen.add(num) # Otherwise, add the number to the set\n",
    "    - return False # if no duplicates are found, return False\n",
    "\n",
    "- TC: O(n) since only requires a single pass through the arr\n",
    "- SC: O(1) set lookup "
   ]
  },
  {
   "cell_type": "code",
   "execution_count": 5,
   "metadata": {},
   "outputs": [
    {
     "name": "stdout",
     "output_type": "stream",
     "text": [
      "False True False\n"
     ]
    }
   ],
   "source": [
    "def contains_duplicates(nums):\n",
    "    if not nums:\n",
    "        return False\n",
    "    seen = set()\n",
    "    for num in nums:\n",
    "        if num in seen:\n",
    "            return True\n",
    "        seen.add(num)\n",
    "    return False\n",
    "\n",
    "nums = [1, 2, 4, 6, 3]\n",
    "nums2 = [1, 1, 1, 1, 1]\n",
    "nums3 = []\n",
    "print(contains_duplicates(nums), contains_duplicates(nums2), contains_duplicates(nums3))"
   ]
  },
  {
   "cell_type": "code",
   "execution_count": null,
   "metadata": {},
   "outputs": [],
   "source": []
  }
 ],
 "metadata": {
  "kernelspec": {
   "display_name": "base",
   "language": "python",
   "name": "python3"
  },
  "language_info": {
   "codemirror_mode": {
    "name": "ipython",
    "version": 3
   },
   "file_extension": ".py",
   "mimetype": "text/x-python",
   "name": "python",
   "nbconvert_exporter": "python",
   "pygments_lexer": "ipython3",
   "version": "3.11.5"
  }
 },
 "nbformat": 4,
 "nbformat_minor": 2
}
