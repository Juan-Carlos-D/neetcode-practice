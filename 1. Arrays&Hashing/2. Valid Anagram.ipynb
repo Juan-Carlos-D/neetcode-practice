{
 "cells": [
  {
   "cell_type": "markdown",
   "metadata": {},
   "source": [
    "# 242. Valid Anagram\n",
    "- Given two strings `s` and `t`, return `True` if `t` is an anagram of `s`, and `False` otherwise\n",
    "- An anagram is a word or phrase formed by rearranging the letters of a different word or phrase, typically using all the original letters exactly once"
   ]
  },
  {
   "cell_type": "markdown",
   "metadata": {},
   "source": [
    "### Pseudocode:\n",
    "- Input: two strs: `s` and `t`\n",
    "- Output: `True` or `False`\n",
    "- Edge Case: capital letters?\n",
    "\n",
    "- def validAnagram(s, t):\n",
    "    - if len(s) != len(t): # Check if the lenghts of s and t are different\n",
    "        - return False # If lengths are diff, they cannot be anagrams\n",
    "    - seen = {} # Create a dictionary to store counts of characters in s\n",
    "    - for char in s:\n",
    "        - if char in seen:\n",
    "            - seen[char] += 1\n",
    "        - else:\n",
    "            - seen[char] = 1\n",
    "    - for char in t:\n",
    "        - if char not in seen or seen[char] == 0 # If char not in s or count becomes 0, not an anagram\n",
    "            - return False\n",
    "        - seen[char] -= 1 # Decrement count for char in seen\n",
    "    - return True # if both strs have the same characters in the same counts, they are anagrams "
   ]
  },
  {
   "cell_type": "code",
   "execution_count": 4,
   "metadata": {},
   "outputs": [
    {
     "name": "stdout",
     "output_type": "stream",
     "text": [
      "True False\n"
     ]
    }
   ],
   "source": [
    "def validAnagram(s, t):\n",
    "    if len(s) != len(t):\n",
    "        return False\n",
    "    seen = {}\n",
    "    for char in s:\n",
    "        if char in seen:\n",
    "            seen[char] += 1\n",
    "        else:\n",
    "            seen[char] = 1\n",
    "    for char in t:\n",
    "        if char not in seen or seen[char] == 0:\n",
    "            return False\n",
    "        seen[char] -= 1\n",
    "    return True\n",
    "\n",
    "s = \"anagram\"\n",
    "t = \"nagaram\"\n",
    "u = \"cat\"\n",
    "v = \"car\"\n",
    "print(validAnagram(s, t), validAnagram(u, v))"
   ]
  },
  {
   "cell_type": "markdown",
   "metadata": {},
   "source": []
  }
 ],
 "metadata": {
  "kernelspec": {
   "display_name": "base",
   "language": "python",
   "name": "python3"
  },
  "language_info": {
   "codemirror_mode": {
    "name": "ipython",
    "version": 3
   },
   "file_extension": ".py",
   "mimetype": "text/x-python",
   "name": "python",
   "nbconvert_exporter": "python",
   "pygments_lexer": "ipython3",
   "version": "3.11.5"
  }
 },
 "nbformat": 4,
 "nbformat_minor": 2
}
